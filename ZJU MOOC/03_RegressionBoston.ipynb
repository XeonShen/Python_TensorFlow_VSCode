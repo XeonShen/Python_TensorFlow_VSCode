{
 "cells": [
  {
   "cell_type": "markdown",
   "metadata": {},
   "source": [
    "### Part 1: Build the model in TensorFlow 1"
   ]
  },
  {
   "cell_type": "code",
   "execution_count": 1,
   "metadata": {},
   "outputs": [],
   "source": [
    "import tensorflow.compat.v1 as tf\n",
    "tf.disable_eager_execution()\n",
    "import numpy as np\n",
    "from sklearn.utils import shuffle\n",
    "import pandas as pd\n",
    "import matplotlib.pyplot as plt\n",
    "%matplotlib inline\n",
    "import warnings\n",
    "warnings.simplefilter(action='ignore', category=Warning)"
   ]
  },
  {
   "cell_type": "code",
   "execution_count": 2,
   "metadata": {},
   "outputs": [],
   "source": [
    "df=pd.read_csv('./datasets/boston.csv',header=0)\n",
    "df=np.array(df)"
   ]
  },
  {
   "cell_type": "code",
   "execution_count": 3,
   "metadata": {},
   "outputs": [],
   "source": [
    "for i in range(12):\n",
    "    df[:,i]=(df[:,i]-df[:,i].min())/(df[:,i].max()-df[:,i].min())\n",
    "x_data=df[:,:12]\n",
    "y_data=df[:,12]\n",
    "x=tf.placeholder(tf.float32,[None,12])\n",
    "y=tf.placeholder(tf.float32,[None,1])\n",
    "\n",
    "w=tf.Variable(tf.random_normal([12,1],stddev=0.01))\n",
    "b=tf.Variable(1.0)"
   ]
  },
  {
   "cell_type": "code",
   "execution_count": 4,
   "metadata": {},
   "outputs": [],
   "source": [
    "def model(x,w,b):\n",
    "    return tf.matmul(x,w)+b\n",
    "def loss(x,y,w,b):\n",
    "    err=y-model(x,w,b)\n",
    "    return tf.reduce_mean(tf.pow(err,2))"
   ]
  },
  {
   "cell_type": "code",
   "execution_count": 5,
   "metadata": {},
   "outputs": [
    {
     "name": "stdout",
     "output_type": "stream",
     "text": [
      "epoch: 1 ,loss= 60.67955696259656 ,b= 10.969132 ,w= [[-0.83357614]\n",
      " [ 2.943863  ]\n",
      " [ 0.02500099]\n",
      " [ 0.76805943]\n",
      " [ 1.4604896 ]\n",
      " [ 9.70935   ]\n",
      " [ 2.8743038 ]\n",
      " [ 3.0673215 ]\n",
      " [ 0.59216416]\n",
      " [ 0.19549869]\n",
      " [ 1.2586415 ]\n",
      " [-3.8896182 ]]\n",
      "epoch: 2 ,loss= 37.050590273173796 ,b= 12.917881 ,w= [[-1.5448714 ]\n",
      " [ 3.5313962 ]\n",
      " [-0.5231137 ]\n",
      " [ 1.4340372 ]\n",
      " [ 1.6537327 ]\n",
      " [13.807234  ]\n",
      " [ 2.193652  ]\n",
      " [ 2.5407455 ]\n",
      " [ 0.87947   ]\n",
      " [-0.42211586]\n",
      " [-0.61113274]\n",
      " [-8.0124235 ]]\n",
      "epoch: 3 ,loss= 30.57879842962434 ,b= 14.163875 ,w= [[ -2.1624343]\n",
      " [  3.444942 ]\n",
      " [ -0.7223132]\n",
      " [  1.8402184]\n",
      " [  1.8130006]\n",
      " [ 16.582392 ]\n",
      " [  1.8140193]\n",
      " [  1.6560522]\n",
      " [  1.3135657]\n",
      " [ -0.8464562]\n",
      " [ -1.8928767]\n",
      " [-11.082884 ]]\n",
      "epoch: 4 ,loss= 27.300993336820223 ,b= 15.069633 ,w= [[ -2.716438 ]\n",
      " [  3.15404  ]\n",
      " [ -0.7777459]\n",
      " [  2.0301495]\n",
      " [  1.8554265]\n",
      " [ 18.533855 ]\n",
      " [  1.546633 ]\n",
      " [  0.7289388]\n",
      " [  1.7665159]\n",
      " [ -1.1714667]\n",
      " [ -2.7758417]\n",
      " [-13.415102 ]]\n",
      "epoch: 5 ,loss= 25.48113357220062 ,b= 15.788662 ,w= [[ -3.2233984 ]\n",
      " [  2.8333452 ]\n",
      " [ -0.7684907 ]\n",
      " [  2.0795176 ]\n",
      " [  1.7857714 ]\n",
      " [ 19.929148  ]\n",
      " [  1.3312869 ]\n",
      " [ -0.14155386]\n",
      " [  2.189271  ]\n",
      " [ -1.4398308 ]\n",
      " [ -3.388228  ]\n",
      " [-15.202388  ]]\n"
     ]
    }
   ],
   "source": [
    "learning_rate=0.01\n",
    "loss_function=loss(x,y,w,b)\n",
    "optimizer=tf.train.GradientDescentOptimizer(learning_rate).minimize(loss_function)\n",
    "\n",
    "sess=tf.Session()\n",
    "init=tf.global_variables_initializer()\n",
    "sess.run(init)\n",
    "\n",
    "training_epochs=5\n",
    "for epoch in range(training_epochs):\n",
    "    loss_sum=0.0\n",
    "    for xs,ys in zip(x_data,y_data):\n",
    "        xs=xs.reshape(1,12)\n",
    "        ys=ys.reshape(1,1)\n",
    "        _,loss=sess.run([optimizer,loss_function],feed_dict={x:xs,y:ys})\n",
    "        loss_sum=loss_sum+loss\n",
    "\n",
    "    xvalues,yvalues=shuffle(x_data,y_data)\n",
    "    b0temp=b.eval(session=sess)\n",
    "    w0temp=w.eval(session=sess)\n",
    "    loss_average=loss_sum/len(y_data)\n",
    "    print('epoch:',epoch+1,',loss=',loss_average,',b=',b0temp,',w=',w0temp)"
   ]
  },
  {
   "cell_type": "markdown",
   "metadata": {},
   "source": [
    "### Part 2: Build the same model but in TensorFlow 2"
   ]
  },
  {
   "cell_type": "code",
   "execution_count": null,
   "metadata": {},
   "outputs": [],
   "source": [
    "import sys\n",
    "sys.exit(\"The previous part of code finished execution. To run the following code, please 'Restart' and 'Run All' manually.\")"
   ]
  },
  {
   "cell_type": "code",
   "execution_count": 1,
   "metadata": {},
   "outputs": [],
   "source": [
    "import tensorflow as tf\n",
    "import numpy as np\n",
    "from sklearn.preprocessing import scale\n",
    "import pandas as pd\n",
    "import matplotlib.pyplot as plt\n",
    "%matplotlib inline\n",
    "import warnings\n",
    "warnings.simplefilter(action='ignore', category=Warning)"
   ]
  },
  {
   "cell_type": "code",
   "execution_count": 2,
   "metadata": {},
   "outputs": [],
   "source": [
    "df=pd.read_csv('./datasets/boston.csv',header=0)\n",
    "df=df.values"
   ]
  },
  {
   "cell_type": "code",
   "execution_count": 3,
   "metadata": {},
   "outputs": [],
   "source": [
    "x_data=df[:,:12]\n",
    "y_data=df[:,12]\n",
    "x_train=tf.cast(scale(x_data[:300]),dtype=tf.float32)\n",
    "y_train=y_data[:300]\n",
    "x_vaild=tf.cast(scale(x_data[300:400]),dtype=tf.float32)\n",
    "y_vaild=y_data[300:400]\n",
    "x_test=tf.cast(scale(x_data[400:len(x_data)]),dtype=tf.float32)\n",
    "y_test=y_data[400:len(y_data)]\n",
    "\n",
    "w=tf.Variable(tf.random.normal([12,1],mean=0.0,stddev=1.0,dtype=tf.float32))\n",
    "b=tf.Variable(tf.zeros(1),dtype=tf.float32)"
   ]
  },
  {
   "cell_type": "code",
   "execution_count": 4,
   "metadata": {},
   "outputs": [],
   "source": [
    "def model(x,w,b):\n",
    "    return tf.matmul(x,w)+b\n",
    "def loss_function(x,y,w,b):\n",
    "    err=model(x,w,b)-y\n",
    "    return tf.reduce_mean(tf.square(err))\n",
    "def grad(x,y,w,b):\n",
    "    with tf.GradientTape() as tape:\n",
    "        return tape.gradient(loss_function(x,y,w,b),[w,b])"
   ]
  },
  {
   "cell_type": "code",
   "execution_count": 5,
   "metadata": {},
   "outputs": [
    {
     "name": "stdout",
     "output_type": "stream",
     "text": [
      "epoch:001, train loss=296.7859, vaild loss=:216.4565\n",
      "epoch:002, train loss=160.6357, vaild loss=:132.9727\n",
      "epoch:003, train loss=121.3695, vaild loss=:121.6641\n",
      "epoch:004, train loss=109.5956, vaild loss=:125.0500\n",
      "epoch:005, train loss=105.8354, vaild loss=:129.4877\n"
     ]
    }
   ],
   "source": [
    "learning_rate=0.01\n",
    "optimizer=tf.keras.optimizers.SGD(learning_rate)\n",
    "\n",
    "loss_list_train=[]\n",
    "loss_list_vaild=[]\n",
    "\n",
    "training_epochs=5\n",
    "batch_size=10\n",
    "total_step=int(300/batch_size)\n",
    "for epoch in range(training_epochs):\n",
    "    for step in range(total_step):\n",
    "        xs=x_train[step*batch_size:(step+1)*batch_size,:]\n",
    "        ys=y_train[step*batch_size:(step+1)*batch_size]\n",
    "        grads=grad(xs,ys,w,b)\n",
    "        optimizer.apply_gradients(zip(grads,[w,b]))\n",
    "\n",
    "    loss_list_train.append(loss_function(x_train,y_train,w,b).numpy())\n",
    "    loss_list_vaild.append(loss_function(x_vaild,y_vaild,w,b).numpy())\n",
    "    print('epoch:{:03d}, train loss={:.4f}, vaild loss=:{:.4f}'.format(epoch+1,loss_function(x_train,y_train,w,b),loss_function(x_vaild,y_vaild,w,b)))"
   ]
  },
  {
   "cell_type": "code",
   "execution_count": 6,
   "metadata": {},
   "outputs": [
    {
     "data": {
      "text/plain": [
       "<matplotlib.legend.Legend at 0x1ce1b482920>"
      ]
     },
     "execution_count": 6,
     "metadata": {},
     "output_type": "execute_result"
    },
    {
     "data": {
      "image/png": "[encoded data removed]",
      "text/plain": [
       "<Figure size 640x480 with 1 Axes>"
      ]
     },
     "metadata": {},
     "output_type": "display_data"
    }
   ],
   "source": [
    "plt.xlabel('epochs')\n",
    "plt.ylabel('loss')\n",
    "plt.plot(loss_list_train,'blue',label='train loss')\n",
    "plt.plot(loss_list_vaild,'red',label='vaild loss')\n",
    "plt.legend(loc=1)"
   ]
  }
 ],
 "metadata": {
  "kernelspec": {
   "display_name": "Python 3.8.16 ('TensorFlow_2')",
   "language": "python",
   "name": "python3"
  },
  "language_info": {
   "codemirror_mode": {
    "name": "ipython",
    "version": 3
   },
   "file_extension": ".py",
   "mimetype": "text/x-python",
   "name": "python",
   "nbconvert_exporter": "python",
   "pygments_lexer": "ipython3",
   "version": "3.10.10"
  },
  "orig_nbformat": 4,
  "vscode": {
   "interpreter": {
    "hash": "eba1f01361cbcfebf806f3b68f7028338144b71e3783d6acf4b17241665e30f4"
   }
  }
 },
 "nbformat": 4,
 "nbformat_minor": 2
}
