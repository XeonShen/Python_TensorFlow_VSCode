{
 "cells": [
  {
   "cell_type": "code",
   "execution_count": 1,
   "metadata": {},
   "outputs": [],
   "source": [
    "import tensorflow as tf\n",
    "import numpy as py\n",
    "from sklearn import preprocessing\n",
    "import pandas as pd\n",
    "import matplotlib.pyplot as plt\n",
    "%matplotlib inline\n",
    "import os\n",
    "import urllib.request\n",
    "import warnings\n",
    "warnings.simplefilter(action='ignore', category=Warning)"
   ]
  },
  {
   "cell_type": "code",
   "execution_count": 2,
   "metadata": {},
   "outputs": [
    {
     "name": "stdout",
     "output_type": "stream",
     "text": [
      "datasets/titanic3.csv dataset found!\n"
     ]
    }
   ],
   "source": [
    "dataset_url='https://biostat.app.vumc.org/wiki/pub/Main/DataSets/titanic3.csv'\n",
    "dataset_dir='./datasets/'\n",
    "dataset_path='datasets/titanic3.csv'\n",
    "\n",
    "os.makedirs(dataset_dir) if not os.path.exists(dataset_dir) else None\n",
    "if not os.path.isfile(dataset_path):\n",
    "    result=urllib.request.urlretrieve(dataset_url,dataset_path)\n",
    "    print('dataset does not exist, downloading it now:',result)\n",
    "else: print(dataset_path,'dataset found!')\n",
    "\n",
    "model_log_dir='./model_logs/'\n",
    "model_ckpt_dir='./model_ckpt/'\n",
    "model_ckpt_path='./model_ckpt/titanic.ckpt'\n",
    "\n",
    "os.makedirs(model_log_dir) if not os.path.exists(model_log_dir) else None\n",
    "os.makedirs(model_ckpt_dir) if not os.path.exists(model_ckpt_dir) else None"
   ]
  },
  {
   "cell_type": "code",
   "execution_count": 3,
   "metadata": {},
   "outputs": [
    {
     "data": {
      "text/plain": [
       "'\\ndf_selected.isnull().sum()\\ndf_selected[df_selected.isnull().values==True]\\n'"
      ]
     },
     "execution_count": 3,
     "metadata": {},
     "output_type": "execute_result"
    }
   ],
   "source": [
    "df=pd.read_csv(dataset_path)\n",
    "selected_cols=['survived','name','pclass','sex','age','sibsp','parch','fare','embarked']\n",
    "df_selected=df[selected_cols]\n",
    "\n",
    "'''\n",
    "df_selected.isnull().sum()\n",
    "df_selected[df_selected.isnull().values==True]\n",
    "'''"
   ]
  },
  {
   "cell_type": "code",
   "execution_count": 4,
   "metadata": {},
   "outputs": [],
   "source": [
    "df_selected=df_selected.sample(frac=1)\n",
    "df_selected['age']=df_selected['age'].fillna(df_selected['age'].mean())\n",
    "df_selected['fare']=df_selected['fare'].fillna(df_selected['fare'].mean())\n",
    "df_selected['embarked']=df_selected['embarked'].fillna('S')\n",
    "df_selected['embarked']=df_selected['embarked'].map({'C':0,'Q':1,'S':2}).astype(int)\n",
    "df_selected['sex']=df_selected['sex'].map({'female':0,'male':1}).astype(int)\n",
    "df_selected=df_selected.drop(['name'],axis=1)"
   ]
  },
  {
   "cell_type": "code",
   "execution_count": 5,
   "metadata": {},
   "outputs": [],
   "source": [
    "feature=df_selected.values[:,1:]\n",
    "label=df_selected.values[:,0]\n",
    "feature=preprocessing.MinMaxScaler(feature_range=(0,1)).fit_transform(feature)\n",
    "\n",
    "train_num=int(len(feature)*0.8)\n",
    "train_feature=feature[:train_num]\n",
    "train_label=label[:train_num]\n",
    "test_feature=feature[train_num:]\n",
    "test_label=label[train_num:]"
   ]
  },
  {
   "cell_type": "code",
   "execution_count": 6,
   "metadata": {},
   "outputs": [
    {
     "name": "stdout",
     "output_type": "stream",
     "text": [
      "Model: \"sequential\"\n",
      "_________________________________________________________________\n",
      " Layer (type)                Output Shape              Param #   \n",
      "=================================================================\n",
      " dense (Dense)               (None, 64)                512       \n",
      "                                                                 \n",
      " dense_1 (Dense)             (None, 32)                2080      \n",
      "                                                                 \n",
      " dense_2 (Dense)             (None, 1)                 33        \n",
      "                                                                 \n",
      "=================================================================\n",
      "Total params: 2,625\n",
      "Trainable params: 2,625\n",
      "Non-trainable params: 0\n",
      "_________________________________________________________________\n"
     ]
    }
   ],
   "source": [
    "model=tf.keras.models.Sequential()\n",
    "model.add(tf.keras.layers.Dense(units=64,input_dim=7,use_bias=True,kernel_initializer='uniform',bias_initializer='zeros',activation='relu'))\n",
    "model.add(tf.keras.layers.Dense(units=32,activation='sigmoid'))\n",
    "model.add(tf.keras.layers.Dense(units=1,activation='sigmoid'))\n",
    "model.compile(optimizer=tf.keras.optimizers.Adam(0.003),loss='binary_crossentropy',metrics=['accuracy'])\n",
    "model.summary()"
   ]
  },
  {
   "cell_type": "code",
   "execution_count": 7,
   "metadata": {},
   "outputs": [
    {
     "name": "stdout",
     "output_type": "stream",
     "text": [
      "WARNING:tensorflow:`period` argument is deprecated. Please use `save_freq` to specify the frequency in number of batches seen.\n",
      "model ckpt file does not exist, training and saving it now...\n"
     ]
    }
   ],
   "source": [
    "callbacks=[tf.keras.callbacks.TensorBoard(log_dir=model_log_dir,histogram_freq=2),\n",
    "           tf.keras.callbacks.ModelCheckpoint(filepath=model_ckpt_path,save_weights_only=True,verbose=0,period=50)]\n",
    "\n",
    "if not os.path.isfile(model_ckpt_path+'.index'):\n",
    "    train_history=model.fit(x=train_feature,y=train_label,validation_split=0.2,epochs=100,batch_size=50,callbacks=callbacks,verbose=0)\n",
    "    print('model ckpt file does not exist, training and saving it now...')\n",
    "else:\n",
    "    model.load_weights(tf.train.latest_checkpoint(model_ckpt_dir))\n",
    "    print('model ckpt file found! load the weight into model...')"
   ]
  },
  {
   "cell_type": "code",
   "execution_count": 8,
   "metadata": {},
   "outputs": [
    {
     "data": {
      "image/png": "[encoded data removed]",
      "text/plain": [
       "<Figure size 640x480 with 1 Axes>"
      ]
     },
     "metadata": {},
     "output_type": "display_data"
    }
   ],
   "source": [
    "def show_train_history(train_history,train_loss,val_loss,train_acc,val_acc):\n",
    "    plt.plot(train_history.history[train_loss])\n",
    "    plt.plot(train_history.history[val_loss])\n",
    "    plt.plot(train_history.history[train_acc])\n",
    "    plt.plot(train_history.history[val_acc])\n",
    "    plt.title('train history')\n",
    "    plt.xlabel('epoch')\n",
    "    plt.legend(['train_loss','val_loss','train_acc','val_acc'],loc='upper left')\n",
    "    plt.show()\n",
    "\n",
    "show_train_history(train_history,'loss','val_loss','accuracy','val_accuracy')"
   ]
  },
  {
   "cell_type": "code",
   "execution_count": 9,
   "metadata": {},
   "outputs": [
    {
     "name": "stdout",
     "output_type": "stream",
     "text": [
      "9/9 [==============================] - 0s 938us/step - loss: 0.4828 - accuracy: 0.7672\n"
     ]
    }
   ],
   "source": [
    "test_loss,test_acc=model.evaluate(x=test_feature,y=test_label)"
   ]
  },
  {
   "cell_type": "code",
   "execution_count": 10,
   "metadata": {},
   "outputs": [
    {
     "name": "stdout",
     "output_type": "stream",
     "text": [
      "41/41 [==============================] - 0s 568us/step\n"
     ]
    },
    {
     "data": {
      "text/html": [
       "<div>\n",
       "<style scoped>\n",
       "    .dataframe tbody tr th:only-of-type {\n",
       "        vertical-align: middle;\n",
       "    }\n",
       "\n",
       "    .dataframe tbody tr th {\n",
       "        vertical-align: top;\n",
       "    }\n",
       "\n",
       "    .dataframe thead th {\n",
       "        text-align: right;\n",
       "    }\n",
       "</style>\n",
       "<table border=\"1\" class=\"dataframe\">\n",
       "  <thead>\n",
       "    <tr style=\"text-align: right;\">\n",
       "      <th></th>\n",
       "      <th>survived</th>\n",
       "      <th>pclass</th>\n",
       "      <th>sex</th>\n",
       "      <th>age</th>\n",
       "      <th>sibsp</th>\n",
       "      <th>parch</th>\n",
       "      <th>fare</th>\n",
       "      <th>embarked</th>\n",
       "      <th>surv_probability</th>\n",
       "    </tr>\n",
       "  </thead>\n",
       "  <tbody>\n",
       "    <tr>\n",
       "      <th>427</th>\n",
       "      <td>1</td>\n",
       "      <td>2</td>\n",
       "      <td>1</td>\n",
       "      <td>0.670000</td>\n",
       "      <td>1</td>\n",
       "      <td>1</td>\n",
       "      <td>14.5000</td>\n",
       "      <td>2</td>\n",
       "      <td>0.620201</td>\n",
       "    </tr>\n",
       "    <tr>\n",
       "      <th>1167</th>\n",
       "      <td>0</td>\n",
       "      <td>3</td>\n",
       "      <td>1</td>\n",
       "      <td>29.881138</td>\n",
       "      <td>0</td>\n",
       "      <td>0</td>\n",
       "      <td>7.7292</td>\n",
       "      <td>1</td>\n",
       "      <td>0.141167</td>\n",
       "    </tr>\n",
       "    <tr>\n",
       "      <th>1070</th>\n",
       "      <td>0</td>\n",
       "      <td>3</td>\n",
       "      <td>1</td>\n",
       "      <td>29.881138</td>\n",
       "      <td>0</td>\n",
       "      <td>0</td>\n",
       "      <td>7.8292</td>\n",
       "      <td>1</td>\n",
       "      <td>0.141121</td>\n",
       "    </tr>\n",
       "    <tr>\n",
       "      <th>667</th>\n",
       "      <td>0</td>\n",
       "      <td>3</td>\n",
       "      <td>0</td>\n",
       "      <td>27.000000</td>\n",
       "      <td>0</td>\n",
       "      <td>0</td>\n",
       "      <td>7.8792</td>\n",
       "      <td>1</td>\n",
       "      <td>0.602263</td>\n",
       "    </tr>\n",
       "    <tr>\n",
       "      <th>507</th>\n",
       "      <td>0</td>\n",
       "      <td>2</td>\n",
       "      <td>1</td>\n",
       "      <td>27.000000</td>\n",
       "      <td>0</td>\n",
       "      <td>0</td>\n",
       "      <td>13.0000</td>\n",
       "      <td>2</td>\n",
       "      <td>0.203864</td>\n",
       "    </tr>\n",
       "  </tbody>\n",
       "</table>\n",
       "</div>"
      ],
      "text/plain": [
       "      survived  pclass  sex        age  sibsp  parch     fare  embarked  \\\n",
       "427          1       2    1   0.670000      1      1  14.5000         2   \n",
       "1167         0       3    1  29.881138      0      0   7.7292         1   \n",
       "1070         0       3    1  29.881138      0      0   7.8292         1   \n",
       "667          0       3    0  27.000000      0      0   7.8792         1   \n",
       "507          0       2    1  27.000000      0      0  13.0000         2   \n",
       "\n",
       "      surv_probability  \n",
       "427           0.620201  \n",
       "1167          0.141167  \n",
       "1070          0.141121  \n",
       "667           0.602263  \n",
       "507           0.203864  "
      ]
     },
     "execution_count": 10,
     "metadata": {},
     "output_type": "execute_result"
    }
   ],
   "source": [
    "surv_probability=model.predict(feature)\n",
    "df_selected.insert(len(df_selected.columns),'surv_probability',surv_probability)\n",
    "df_selected.head(5)"
   ]
  }
 ],
 "metadata": {
  "kernelspec": {
   "display_name": "Python 3.8.16 ('TensorFlow_2')",
   "language": "python",
   "name": "python3"
  },
  "language_info": {
   "codemirror_mode": {
    "name": "ipython",
    "version": 3
   },
   "file_extension": ".py",
   "mimetype": "text/x-python",
   "name": "python",
   "nbconvert_exporter": "python",
   "pygments_lexer": "ipython3",
   "version": "3.10.10"
  },
  "orig_nbformat": 4,
  "vscode": {
   "interpreter": {
    "hash": "eba1f01361cbcfebf806f3b68f7028338144b71e3783d6acf4b17241665e30f4"
   }
  }
 },
 "nbformat": 4,
 "nbformat_minor": 2
}
